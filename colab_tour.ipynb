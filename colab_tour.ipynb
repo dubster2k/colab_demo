{
  "nbformat": 4,
  "nbformat_minor": 0,
  "metadata": {
    "kernelspec": {
      "display_name": "Python 3",
      "language": "python",
      "name": "python3"
    },
    "language_info": {
      "codemirror_mode": {
        "name": "ipython",
        "version": 3
      },
      "file_extension": ".py",
      "mimetype": "text/x-python",
      "name": "python",
      "nbconvert_exporter": "python",
      "pygments_lexer": "ipython3",
      "version": "3.8.5"
    },
    "colab": {
      "name": "colab_tour.ipynb",
      "provenance": [],
      "toc_visible": true,
      "include_colab_link": true
    }
  },
  "cells": [
    {
      "cell_type": "markdown",
      "metadata": {
        "id": "view-in-github",
        "colab_type": "text"
      },
      "source": [
        "<a href=\"https://colab.research.google.com/github/dubster2k/colab_demo/blob/main/colab_tour.ipynb\" target=\"_parent\"><img src=\"https://colab.research.google.com/assets/colab-badge.svg\" alt=\"Open In Colab\"/></a>"
      ]
    },
    {
      "cell_type": "markdown",
      "metadata": {
        "id": "QsbN9yqeKuWh"
      },
      "source": [
        "### A demonstrtion of google colab"
      ]
    },
    {
      "cell_type": "code",
      "metadata": {
        "colab": {
          "base_uri": "https://localhost:8080/",
          "height": 248
        },
        "id": "K15dj2EpKuWm",
        "outputId": "e2846f75-4cd4-43d4-a895-9dec3b737c62"
      },
      "source": [
        "import matplotlib.pyplot as plt\r\n",
        "import numpy as np\r\n",
        "\r\n",
        "y = np.array([30, 20, 10])\r\n",
        "\r\n",
        "plt.pie(y)\r\n",
        "plt.show() "
      ],
      "execution_count": 21,
      "outputs": [
        {
          "output_type": "display_data",
          "data": {
            "image/png": "[encoded data removed]",
            "text/plain": [
              "<Figure size 432x288 with 1 Axes>"
            ]
          },
          "metadata": {
            "tags": []
          }
        }
      ]
    },
    {
      "cell_type": "code",
      "metadata": {
        "colab": {
          "base_uri": "https://localhost:8080/",
          "height": 248
        },
        "id": "pAu_1pjRWezj",
        "outputId": "6e56ba18-a651-441e-e723-f8f4823c3335"
      },
      "source": [
        "#@title Forms { run: \"auto\" ,display-mode: \"form\"}\r\n",
        "\r\n",
        "\r\n",
        "number_slider = 25.6 #@param {type:\"slider\", min:20, max:40, step:0.1}\r\n",
        "\r\n",
        "integer_input = 44 #@param {type:\"integer\"}\r\n",
        "integer_slider = 46 #@param {type:\"slider\", min:0, max:100, step:1}\r\n",
        "\r\n",
        "\r\n",
        "y = np.array([ number_slider, integer_input, integer_slider])\r\n",
        "\r\n",
        "plt.pie(y)\r\n",
        "plt.show() "
      ],
      "execution_count": 42,
      "outputs": [
        {
          "output_type": "display_data",
          "data": {
            "image/png": "[encoded data removed]",
            "text/plain": [
              "<Figure size 432x288 with 1 Axes>"
            ]
          },
          "metadata": {
            "tags": []
          }
        }
      ]
    },
    {
      "cell_type": "code",
      "metadata": {
        "id": "KrqSBh2FfS1j"
      },
      "source": [
        ""
      ],
      "execution_count": null,
      "outputs": []
    },
    {
      "cell_type": "markdown",
      "metadata": {
        "id": "_B6tipWyrVA1"
      },
      "source": [
        "###  **Scraping**\r\n"
      ]
    },
    {
      "cell_type": "code",
      "metadata": {
        "colab": {
          "base_uri": "https://localhost:8080/"
        },
        "id": "pLJzI5gWbowE",
        "outputId": "cccc9478-792d-4bee-dd86-b13aa70b1ec7"
      },
      "source": [
        "import socket \r\n",
        "from bs4 import BeautifulSoup\r\n",
        "import requests \r\n",
        "# Function to display hostname and \r\n",
        "# IP address \r\n",
        "def get_Host_name_IP(): \r\n",
        "    try: \r\n",
        "        host_name = socket.gethostname() \r\n",
        "        host_ip = socket.gethostbyname(host_name) \r\n",
        "        print(\"Hostname :  \",host_name) \r\n",
        "        print(\"IP : \",host_ip) \r\n",
        "    except: \r\n",
        "        print(\"Unable to get Hostname and IP\") \r\n",
        "  \r\n",
        "# Driver code \r\n",
        "get_Host_name_IP() #Function call "
      ],
      "execution_count": 37,
      "outputs": [
        {
          "output_type": "stream",
          "text": [
            "Hostname :   010cb18074b8\n",
            "IP :  172.28.0.2\n"
          ],
          "name": "stdout"
        }
      ]
    },
    {
      "cell_type": "code",
      "metadata": {
        "colab": {
          "base_uri": "https://localhost:8080/"
        },
        "id": "6SV3jKavbwXU",
        "outputId": "e28a9453-93fd-42d0-fd50-20521e67150d"
      },
      "source": [
        "url = 'https://www.npr.org/' \r\n",
        "\r\n",
        "response = requests.get(url)\r\n",
        "response.status_code\r\n",
        "if response.status_code==200:\r\n",
        "    page = response.text\r\n",
        "    soup = BeautifulSoup(page, \"lxml\")\r\n",
        "    headline=soup.find_all('h3')[0].text\r\n",
        "    print (headline)\r\n"
      ],
      "execution_count": null,
      "outputs": [
        {
          "output_type": "stream",
          "text": [
            "McConnell Relents On Senate Filibuster Stalemate\n"
          ],
          "name": "stdout"
        }
      ]
    }
  ]
}